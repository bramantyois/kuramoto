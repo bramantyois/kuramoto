{
 "cells": [
  {
   "cell_type": "code",
   "execution_count": 1,
   "metadata": {},
   "outputs": [
    {
     "name": "stdout",
     "output_type": "stream",
     "text": [
      "/home/ra/Codes/kuramoto\n"
     ]
    }
   ],
   "source": [
    "%cd .."
   ]
  },
  {
   "cell_type": "code",
   "execution_count": 2,
   "metadata": {},
   "outputs": [],
   "source": [
    "from kuramoto.model import KuramotoModel"
   ]
  },
  {
   "cell_type": "code",
   "execution_count": 3,
   "metadata": {},
   "outputs": [],
   "source": [
    "model = KuramotoModel()"
   ]
  },
  {
   "cell_type": "code",
   "execution_count": 4,
   "metadata": {},
   "outputs": [
    {
     "ename": "ValueError",
     "evalue": "unable to broadcast argument 3 to output array\nFile \"/home/ra/miniconda3/envs/kuramoto/lib/python3.9/site-packages/numba/np/npyimpl.py\", line 227, ",
     "output_type": "error",
     "traceback": [
      "\u001b[0;31m---------------------------------------------------------------------------\u001b[0m",
      "\u001b[0;31mValueError\u001b[0m                                Traceback (most recent call last)",
      "Cell \u001b[0;32mIn[4], line 1\u001b[0m\n\u001b[0;32m----> 1\u001b[0m model\u001b[39m.\u001b[39;49mrun(chunkwise\u001b[39m=\u001b[39;49m\u001b[39mTrue\u001b[39;49;00m, append_outputs\u001b[39m=\u001b[39;49m\u001b[39mTrue\u001b[39;49;00m)\n",
      "File \u001b[0;32m~/miniconda3/envs/kuramoto/lib/python3.9/site-packages/neurolib/models/model.py:241\u001b[0m, in \u001b[0;36mModel.run\u001b[0;34m(self, inputs, chunkwise, chunksize, bold, append, append_outputs, continue_run)\u001b[0m\n\u001b[1;32m    239\u001b[0m         logging\u001b[39m.\u001b[39mwarn(\u001b[39mf\u001b[39m\u001b[39m\"\u001b[39m\u001b[39m{\u001b[39;00m\u001b[39mself\u001b[39m\u001b[39m.\u001b[39mname\u001b[39m}\u001b[39;00m\u001b[39m: BOLD model not initialized, not simulating BOLD. Use `run(bold=True)`\u001b[39m\u001b[39m\"\u001b[39m)\n\u001b[1;32m    240\u001b[0m         bold \u001b[39m=\u001b[39m \u001b[39mFalse\u001b[39;00m\n\u001b[0;32m--> 241\u001b[0m     \u001b[39mself\u001b[39;49m\u001b[39m.\u001b[39;49mintegrateChunkwise(chunksize\u001b[39m=\u001b[39;49mchunksize, bold\u001b[39m=\u001b[39;49mbold, append_outputs\u001b[39m=\u001b[39;49mappend)\n\u001b[1;32m    243\u001b[0m \u001b[39m# check if there was a problem with the simulated data\u001b[39;00m\n\u001b[1;32m    244\u001b[0m \u001b[39mself\u001b[39m\u001b[39m.\u001b[39mcheckOutputs()\n",
      "File \u001b[0;32m~/miniconda3/envs/kuramoto/lib/python3.9/site-packages/neurolib/models/model.py:300\u001b[0m, in \u001b[0;36mModel.integrateChunkwise\u001b[0;34m(self, chunksize, bold, append_outputs)\u001b[0m\n\u001b[1;32m    297\u001b[0m remainingChunkSize \u001b[39m=\u001b[39m \u001b[39mint\u001b[39m(\u001b[39mround\u001b[39m((totalDuration \u001b[39m-\u001b[39m lastT) \u001b[39m/\u001b[39m dt))\n\u001b[1;32m    298\u001b[0m currentChunkSize \u001b[39m=\u001b[39m \u001b[39mmin\u001b[39m(chunksize, remainingChunkSize)\n\u001b[0;32m--> 300\u001b[0m \u001b[39mself\u001b[39;49m\u001b[39m.\u001b[39;49mautochunk(chunksize\u001b[39m=\u001b[39;49mcurrentChunkSize, append_outputs\u001b[39m=\u001b[39;49mappend_outputs, bold\u001b[39m=\u001b[39;49mbold)\n\u001b[1;32m    301\u001b[0m \u001b[39m# we save the last simulated time step\u001b[39;00m\n\u001b[1;32m    302\u001b[0m lastT \u001b[39m+\u001b[39m\u001b[39m=\u001b[39m currentChunkSize \u001b[39m*\u001b[39m dt\n",
      "File \u001b[0;32m~/miniconda3/envs/kuramoto/lib/python3.9/site-packages/neurolib/models/model.py:394\u001b[0m, in \u001b[0;36mModel.autochunk\u001b[0;34m(self, inputs, chunksize, append_outputs, bold)\u001b[0m\n\u001b[1;32m    391\u001b[0m     \u001b[39mself\u001b[39m\u001b[39m.\u001b[39msetInputs(inputs)\n\u001b[1;32m    393\u001b[0m \u001b[39m# run integration\u001b[39;00m\n\u001b[0;32m--> 394\u001b[0m \u001b[39mself\u001b[39;49m\u001b[39m.\u001b[39;49mintegrate(append_outputs\u001b[39m=\u001b[39;49mappend_outputs, simulate_bold\u001b[39m=\u001b[39;49mbold)\n\u001b[1;32m    396\u001b[0m \u001b[39m# set initial conditions to last state for the next chunk\u001b[39;00m\n\u001b[1;32m    397\u001b[0m \u001b[39mself\u001b[39m\u001b[39m.\u001b[39msetInitialValuesToLastState()\n",
      "File \u001b[0;32m~/miniconda3/envs/kuramoto/lib/python3.9/site-packages/neurolib/models/model.py:267\u001b[0m, in \u001b[0;36mModel.integrate\u001b[0;34m(self, append_outputs, simulate_bold)\u001b[0m\n\u001b[1;32m    261\u001b[0m \u001b[39m\u001b[39m\u001b[39m\"\"\"Calls each models `integration` function and saves the state and the outputs of the model.\u001b[39;00m\n\u001b[1;32m    262\u001b[0m \n\u001b[1;32m    263\u001b[0m \u001b[39m:param append: append the chunkwise outputs to the outputs attribute, defaults to False, defaults to False\u001b[39;00m\n\u001b[1;32m    264\u001b[0m \u001b[39m:type append: bool, optional\u001b[39;00m\n\u001b[1;32m    265\u001b[0m \u001b[39m\"\"\"\u001b[39;00m\n\u001b[1;32m    266\u001b[0m \u001b[39m# run integration\u001b[39;00m\n\u001b[0;32m--> 267\u001b[0m t, \u001b[39m*\u001b[39mvariables \u001b[39m=\u001b[39m \u001b[39mself\u001b[39;49m\u001b[39m.\u001b[39;49mintegration(\u001b[39mself\u001b[39;49m\u001b[39m.\u001b[39;49mparams)\n\u001b[1;32m    268\u001b[0m \u001b[39mself\u001b[39m\u001b[39m.\u001b[39mstoreOutputsAndStates(t, variables, append\u001b[39m=\u001b[39mappend_outputs)\n\u001b[1;32m    270\u001b[0m \u001b[39m# force bold if params['bold'] == True\u001b[39;00m\n",
      "File \u001b[0;32m~/Codes/kuramoto/kuramoto/timeIntegration.py:64\u001b[0m, in \u001b[0;36mtimeIntegration\u001b[0;34m(params)\u001b[0m\n\u001b[1;32m     54\u001b[0m \u001b[39m# state variable arrays, have length of t + startind\u001b[39;00m\n\u001b[1;32m     55\u001b[0m \u001b[39m# they store initial conditions AND simulated data\u001b[39;00m\n\u001b[1;32m     56\u001b[0m \n\u001b[0;32m   (...)\u001b[0m\n\u001b[1;32m     60\u001b[0m \n\u001b[1;32m     61\u001b[0m \u001b[39m# initial values for thetas\u001b[39;00m\n\u001b[1;32m     62\u001b[0m x_s[:,[\u001b[39m0\u001b[39m]] \u001b[39m=\u001b[39m params[\u001b[39m'\u001b[39m\u001b[39mxs_init\u001b[39m\u001b[39m'\u001b[39m]\n\u001b[0;32m---> 64\u001b[0m timeIntegration_njit_elementwise(\n\u001b[1;32m     65\u001b[0m     t,\n\u001b[1;32m     66\u001b[0m     dt,\n\u001b[1;32m     67\u001b[0m     sqrt_dt,\n\u001b[1;32m     68\u001b[0m     N,\n\u001b[1;32m     69\u001b[0m     omega,\n\u001b[1;32m     70\u001b[0m     k,\n\u001b[1;32m     71\u001b[0m     x_s,\n\u001b[1;32m     72\u001b[0m     tau_ou,\n\u001b[1;32m     73\u001b[0m     sigma_ou,\n\u001b[1;32m     74\u001b[0m     x_ou,\n\u001b[1;32m     75\u001b[0m     x_ou_mean,\n\u001b[1;32m     76\u001b[0m     noise_x_ou,\n\u001b[1;32m     77\u001b[0m )\n",
      "\u001b[0;31mValueError\u001b[0m: unable to broadcast argument 3 to output array\nFile \"/home/ra/miniconda3/envs/kuramoto/lib/python3.9/site-packages/numba/np/npyimpl.py\", line 227, "
     ]
    }
   ],
   "source": [
    "model.run(chunkwise=True, append_outputs=True)"
   ]
  },
  {
   "cell_type": "code",
   "execution_count": null,
   "metadata": {},
   "outputs": [],
   "source": []
  }
 ],
 "metadata": {
  "kernelspec": {
   "display_name": "kuramoto",
   "language": "python",
   "name": "python3"
  },
  "language_info": {
   "codemirror_mode": {
    "name": "ipython",
    "version": 3
   },
   "file_extension": ".py",
   "mimetype": "text/x-python",
   "name": "python",
   "nbconvert_exporter": "python",
   "pygments_lexer": "ipython3",
   "version": "3.9.16"
  },
  "orig_nbformat": 4
 },
 "nbformat": 4,
 "nbformat_minor": 2
}
